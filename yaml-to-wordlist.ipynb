{
 "cells": [
  {
   "cell_type": "code",
   "execution_count": 1,
   "id": "fd936aea-c4a6-4875-81e8-25263ee3ea83",
   "metadata": {},
   "outputs": [],
   "source": [
    "import yaml\n",
    "\n",
    "thai_word_chars = \"กขฃคฅฆงจฉชซฌญฎฏฐฑฒณดตถทธนบปผฝพฟภมยรลวศษสหฬอฮฤฦะัาำิีึืุูเแโใไๅํ็่้๊๋ฯฺๆ์ํ๎\"\n",
    "\n",
    "def is_thai_word(text: str) -> bool:\n",
    "    for ch in text:\n",
    "        if not (ch in thai_word_chars):\n",
    "            return False\n",
    "    return True"
   ]
  },
  {
   "cell_type": "code",
   "execution_count": 2,
   "id": "659a4f27-d1f8-4959-8b72-00d809e71cd6",
   "metadata": {},
   "outputs": [],
   "source": [
    "with open(\"wss/wss.vocab.yaml\", \"r\") as vocab_file:\n",
    "    vocab = yaml.safe_load(vocab_file)"
   ]
  },
  {
   "cell_type": "code",
   "execution_count": 3,
   "id": "2bd3c6b0-0102-431a-80ff-3d4a7e14b60f",
   "metadata": {},
   "outputs": [
    {
     "data": {
      "text/plain": [
       "41322"
      ]
     },
     "execution_count": 3,
     "metadata": {},
     "output_type": "execute_result"
    }
   ],
   "source": [
    "tokens = set()\n",
    "\n",
    "for token in vocab[\"tokens\"]:\n",
    "    _token = token[\"token\"]\n",
    "    _token = _token.strip()\n",
    "\n",
    "    if _token and not _token.startswith(\"TokenMonsterHexEncode\"):\n",
    "        #if len(_token) == 1:\n",
    "        #    tokens.add(_token)\n",
    "        #    continue\n",
    "\n",
    "        if is_thai_word(_token):\n",
    "            tokens.add(_token)\n",
    "            continue\n",
    "\n",
    "len(tokens)"
   ]
  },
  {
   "cell_type": "code",
   "execution_count": 4,
   "id": "ee4ac84c-f13d-4334-ad61-22eb26cc2d3a",
   "metadata": {},
   "outputs": [
    {
     "data": {
      "text/plain": [
       "['ผิวหน้',\n",
       " 'เน้ตแม่ง',\n",
       " 'อุบัติเหตุ',\n",
       " 'ร้านเปิด',\n",
       " 'หมายถึง',\n",
       " 'ลุคดีดูท',\n",
       " 'ฮอ',\n",
       " 'ยตัวเองแ',\n",
       " 'ถ้าไ',\n",
       " 'แม็คโดนั',\n",
       " '่บิ๊กซี',\n",
       " 'ตต่',\n",
       " 'ับก',\n",
       " 'นามบิ',\n",
       " 'นออก']"
      ]
     },
     "execution_count": 4,
     "metadata": {},
     "output_type": "execute_result"
    }
   ],
   "source": [
    "tokens = list(tokens)\n",
    "tokens[:15]"
   ]
  },
  {
   "cell_type": "code",
   "execution_count": 5,
   "id": "2572cd2c-0531-4920-a033-ae2ab0828273",
   "metadata": {},
   "outputs": [],
   "source": [
    "with open(\"wss/wss.dict.txt\", \"w\") as dict_file:\n",
    "    for token in sorted(tokens):\n",
    "        dict_file.write(token + \"\\n\")"
   ]
  },
  {
   "cell_type": "code",
   "execution_count": null,
   "id": "41c6d9dc-5447-48e4-90a2-55fe2cfbd003",
   "metadata": {},
   "outputs": [],
   "source": []
  }
 ],
 "metadata": {
  "kernelspec": {
   "display_name": "Python 3 (ipykernel)",
   "language": "python",
   "name": "python3"
  },
  "language_info": {
   "codemirror_mode": {
    "name": "ipython",
    "version": 3
   },
   "file_extension": ".py",
   "mimetype": "text/x-python",
   "name": "python",
   "nbconvert_exporter": "python",
   "pygments_lexer": "ipython3",
   "version": "3.11.6"
  }
 },
 "nbformat": 4,
 "nbformat_minor": 5
}
